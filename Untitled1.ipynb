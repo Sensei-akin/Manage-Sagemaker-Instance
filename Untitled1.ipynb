{
 "cells": [
  {
   "cell_type": "code",
   "execution_count": 1,
   "id": "19cebc2b-145b-4614-9629-f6dd0c54eab1",
   "metadata": {},
   "outputs": [],
   "source": [
    "import imutils\n",
    "from skimage.filters import threshold_local\n",
    "import cv2,base64,os, argparse\n",
    "import numpy as np\n",
    "import random\n",
    "\n",
    "import pytesseract\n",
    "from skimage import measure\n",
    "import re,datetime,json\n",
    "# Reading the image \n",
    "image = cv2.imread('/Users/akinwande.komolafe/Downloads/Emena/letter.jpg')\n",
    "pytesseract.pytesseract.tesseract_cmd = '/opt/homebrew/bin/tesseract'\n",
    "\n",
    "# img = cv2.cvtColor(image, cv2.COLOR_BGR2GRAY)\n",
    "# Extraction of text from image\n",
    "# text = pytesseract.image_to_string(image)\n",
    "\n",
    "## detecting characters\n",
    "\n",
    "# hImg, wImg = img.shape\n",
    "# boxes = pytesseract.image_to_boxes(img)\n",
    "\n",
    "# for b in boxes.splitlines():\n",
    "#     b = b.split(' ')\n",
    "#     x,y,w,h = int(b[1]),int(b[2]),int(b[3]),int(b[4]) \n",
    "#     cv2.rectangle(img,(x,y),(x+w,y+h),(0,0,255),1)\n",
    "# cv2.imshow('result',img)\n",
    "# # cv2.waitKey(0)"
   ]
  },
  {
   "cell_type": "code",
   "execution_count": 2,
   "id": "0803d94d-897f-4c33-9386-2914a9f28cec",
   "metadata": {},
   "outputs": [],
   "source": [
    "# perform a image cleaning to enhance constrast and borders\n",
    "def cleanImage(image, stage = 0):\n",
    "    V = cv2.cvtColor(image, cv2.COLOR_BGR2GRAY)\n",
    "    kernel = cv2.getStructuringElement(cv2.MORPH_RECT, (3, 3))\n",
    "    # applying topHat/blackHat operations\n",
    "    topHat = cv2.morphologyEx(V, cv2.MORPH_TOPHAT, kernel)\n",
    "    blackHat = cv2.morphologyEx(V, cv2.MORPH_BLACKHAT, kernel)\n",
    "    # add and subtract between morphological operations\n",
    "    add = cv2.add(V, topHat)\n",
    "    subtract = cv2.subtract(add, blackHat)\n",
    "    if (stage == 1):\n",
    "        return subtract\n",
    "    T = threshold_local(subtract, 29, offset=35, method=\"gaussian\", mode=\"mirror\")\n",
    "    thresh = (subtract > T).astype(\"uint8\") * 255\n",
    "    if (stage == 2):\n",
    "        return thresh\n",
    "    # invert image \n",
    "    thresh = cv2.bitwise_not(thresh)\n",
    "    return thresh"
   ]
  },
  {
   "cell_type": "code",
   "execution_count": 3,
   "id": "f7e064b2-a0b6-44d1-b8a7-6d75f6b3a69a",
   "metadata": {},
   "outputs": [],
   "source": [
    "def extractROIs(image, minArea = 1800, minHeight = 25, minWidth = 22):\n",
    "    # find contours\n",
    "    cnts = cv2.findContours(image, cv2.RETR_EXTERNAL, cv2.CHAIN_APPROX_SIMPLE)\n",
    "    cnts = imutils.grab_contours(cnts)\n",
    "    roisAsRects = []\n",
    "    # loop trhough \n",
    "    for c in cnts:\n",
    "        rect = cv2.minAreaRect(c)\n",
    "        (_, _),(rh, rw),_ = rect\n",
    "        if (rh > 0):\n",
    "            ratio = float(rw)/rh\n",
    "            area = rw*rh\n",
    "            if (area > minArea and rh > minHeight and rw > minWidth and (ratio > 1 or ratio < 0.5)):\n",
    "        # add to the rois list\n",
    "                roisAsRects.append(rect)\n",
    "    return roisAsRects"
   ]
  },
  {
   "cell_type": "code",
   "execution_count": 4,
   "id": "a0358a8e-feff-4259-b176-7fec389b3aeb",
   "metadata": {},
   "outputs": [],
   "source": [
    "clnImg = cleanImage(image)"
   ]
  },
  {
   "cell_type": "code",
   "execution_count": 6,
   "id": "89e93a3f-2364-4045-9715-a586a397fda5",
   "metadata": {},
   "outputs": [
    {
     "data": {
      "text/plain": [
       "[((262.8292541503906, 1718.9635009765625),\n",
       "  (64.48780059814453, 202.85362243652344),\n",
       "  77.31961059570312),\n",
       " ((245.5, 143.5), (45.0, 59.0), 90.0),\n",
       " ((699.5, 124.5), (83.0, 37.0), 90.0),\n",
       " ((603.9719848632812, 124.01312255859375),\n",
       "  (30.210569381713867, 82.71809387207031),\n",
       "  1.5911402702331543),\n",
       " ((244.4280242919922, 99.84825897216797),\n",
       "  (35.05659866333008, 59.00986099243164),\n",
       "  86.42366790771484),\n",
       " ((865.0, 123.5), (44.0, 83.0), 0.0)]"
      ]
     },
     "execution_count": 6,
     "metadata": {},
     "output_type": "execute_result"
    }
   ],
   "source": [
    "extractROIs(clnImg)"
   ]
  },
  {
   "cell_type": "code",
   "execution_count": null,
   "id": "0c27429b-0bb7-4c17-a14c-f19365dad92f",
   "metadata": {},
   "outputs": [],
   "source": [
    "cv2.imshow('result',extractROIs()\n",
    "cv2.waitKey(0)"
   ]
  },
  {
   "cell_type": "code",
   "execution_count": null,
   "id": "31189c2f-b057-4ce2-8d63-3cd8958b888e",
   "metadata": {},
   "outputs": [],
   "source": []
  }
 ],
 "metadata": {
  "kernelspec": {
   "display_name": "Python 3 (ipykernel)",
   "language": "python",
   "name": "python3"
  },
  "language_info": {
   "codemirror_mode": {
    "name": "ipython",
    "version": 3
   },
   "file_extension": ".py",
   "mimetype": "text/x-python",
   "name": "python",
   "nbconvert_exporter": "python",
   "pygments_lexer": "ipython3",
   "version": "3.9.7"
  }
 },
 "nbformat": 4,
 "nbformat_minor": 5
}
