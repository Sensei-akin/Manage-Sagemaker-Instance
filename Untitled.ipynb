{
 "cells": [
  {
   "cell_type": "code",
   "execution_count": 2,
   "id": "b3caaddb-d56a-422b-ba10-db4e7261d300",
   "metadata": {},
   "outputs": [],
   "source": [
    "import pytesseract"
   ]
  },
  {
   "cell_type": "code",
   "execution_count": 3,
   "id": "5cb76974-ce15-464f-af0f-4a794c39d1b6",
   "metadata": {},
   "outputs": [],
   "source": [
    "import cv2"
   ]
  },
  {
   "cell_type": "code",
   "execution_count": 11,
   "id": "732b7efd-a560-4325-9690-c3a9c99880f2",
   "metadata": {},
   "outputs": [],
   "source": [
    "# Reading the image \n",
    "path = '/Users/akinwande.komolafe/Documents/streamlit-projects/passportpage.jpg'\n",
    "image = cv2.imread(path)"
   ]
  },
  {
   "cell_type": "code",
   "execution_count": 12,
   "id": "f68e9a6f-34dd-4d6e-b8aa-54a7704ad1d6",
   "metadata": {},
   "outputs": [],
   "source": [
    "pytesseract.pytesseract.tesseract_cmd = '/opt/homebrew/bin/tesseract'"
   ]
  },
  {
   "cell_type": "code",
   "execution_count": 13,
   "id": "8a2a9494-f909-487f-b2c5-2b4742600627",
   "metadata": {},
   "outputs": [],
   "source": [
    "# from pdf2image import convert_from_path\n",
    "# images = convert_from_path(path,500)\n",
    " \n",
    "# images[0].save('passportpage' +'.jpg', 'JPEG')"
   ]
  },
  {
   "cell_type": "code",
   "execution_count": 14,
   "id": "51601faa-d259-4583-99be-0e7bf4569ee7",
   "metadata": {},
   "outputs": [],
   "source": [
    "# Extraction of text from image\n",
    "text = pytesseract.image_to_string(image)"
   ]
  },
  {
   "cell_type": "code",
   "execution_count": 15,
   "id": "7ea282d7-f2a7-482f-b5f9-baf1c6e1e960",
   "metadata": {},
   "outputs": [
    {
     "data": {
      "text/plain": [
       "\" \\n\\nw\\nA ww mw\\nY Ow oOo W\\nSte Se\\nSiege. cs\\n<et 8s 38-82 § CH\\n- 8 2s os = &. =\\n& 5 MS S.. M4 tes\\na = & 5...90 vo =\\ngeste 8 Bye y rp\\nSe aa S os ~ >\\n= So § % Ge & ce\\nSSSUESES sees rm\\nSSygE Ss EL Sea\\neeect es = cs —\\nSe SS cS y = Se &\\n© My FY Oo rp]\\nYM W Ss = = ee S\\n» 2S s S S's\\nSf FS. Bak & oes:\\nSie un oS Ps\\nge .o So ae ee\\noo tae SS\\nSi Re\\nage Seess\\nUSS Ss &\\na\\n\\n \\n\\nFEDERAL REPUBLIC OF NIGERIA s *C\\n\\nType / Type Country Code / Code du pays Passport No. / Paesseport N°\\nPASSPORT\\nPASSEPORT —__ ae NGA | A11769194 :\\neee «6 KOMOLAFE o\\nA\\n\\n \\n\\n   \\n\\n’ ae | Given Names / Prénoms\\n, | AKINWANDE BAYODE\\n. pats Nationality / Nationalité\\n. § NIGERIAN\\n‘ ‘ a Date of Birth / Date de naissance\\n7¥ 290CT/OCT 96\\nSex / Sexe Place of Birth / Lieu de naissance Authority / Autorité\\nM KANO AKURE\\nDate of Issue / Date de délivrance\\n25 MAR / MAR 21\\nDate of Expiry / Date d'expiration\\n\\n24 MAR / MAR 26\\n\\nPersonal No. / N° personne!\\n\\nHolder's Signature / Signature du Titulaire\\n\\nP<NGAKOMOLAFE<<AKINWANDE<BAYODE<<<<<<<<<<<<<\\nA117691948NGA9610297M2603243<<<<<<<<<<<<<<06\\n\\n \\n \\n\\n \\n\""
      ]
     },
     "execution_count": 15,
     "metadata": {},
     "output_type": "execute_result"
    }
   ],
   "source": [
    "text"
   ]
  },
  {
   "cell_type": "code",
   "execution_count": 31,
   "id": "2d3e08fa-5980-409b-bf59-00bf61a13649",
   "metadata": {},
   "outputs": [],
   "source": [
    "import imutils\n",
    "W=800\n",
    "image = cv2.imread(path)\n",
    "\n",
    "resize_proc = imutils.resize(image, width=W)\n",
    "resize_orig = imutils.resize(image, width=W)\n",
    "thresh = cleanImage(resize_proc)"
   ]
  },
  {
   "cell_type": "code",
   "execution_count": 34,
   "id": "7a24da41-01a0-4dc2-bace-e5fd275eb534",
   "metadata": {},
   "outputs": [],
   "source": [
    "rrects = extractROIs(thresh)\n",
    "rois, meanAngle, stdAngle = cropRois(resize_orig, rrects)"
   ]
  },
  {
   "cell_type": "code",
   "execution_count": 35,
   "id": "5a7f5a25-6456-48c0-832e-cb8a1eea1c22",
   "metadata": {},
   "outputs": [],
   "source": [
    "for i in sorted (rois.keys()):\n",
    "    r = rois[i][0]\n",
    "    ratio = rois[i][2]\n",
    "    #print(r)\n",
    "    # remove some top pixels \n",
    "    (h, w,) = r.shape[:2]\n",
    "    # ratio = float(w) / h\n",
    "    r = r[3:h, 0:w]\n",
    "    # duplicate the image to process against tesseract\n",
    "    origin = r.copy()\n",
    "    gray = r.copy()\n",
    "    gray = cleanImage(gray, 1)\n",
    "    text_origin = pytesseract.image_to_string(origin)"
   ]
  },
  {
   "cell_type": "code",
   "execution_count": 38,
   "id": "fd9fb8de-731d-4f23-818b-48a0d88a3bd7",
   "metadata": {},
   "outputs": [],
   "source": [
    "cleanText = r\"[^A-Z0-9.,\\-\\S\\/]\"\n",
    "text_gray = pytesseract.image_to_string(gray)\n",
    "text = text_gray if len(text_gray) > len(text_origin) else text_origin\n",
    "text = re.sub(cleanText, \"\", text)\n",
    "text = text.strip()"
   ]
  },
  {
   "cell_type": "code",
   "execution_count": 39,
   "id": "5458c0d1-0301-4111-98fc-deca54663fef",
   "metadata": {},
   "outputs": [
    {
     "data": {
      "text/plain": [
       "''"
      ]
     },
     "execution_count": 39,
     "metadata": {},
     "output_type": "execute_result"
    }
   ],
   "source": [
    "text"
   ]
  },
  {
   "cell_type": "markdown",
   "id": "b59a2aad-ab3b-4bfe-892a-02901ff61ab0",
   "metadata": {},
   "source": [
    "## Getting started"
   ]
  },
  {
   "cell_type": "code",
   "execution_count": 33,
   "id": "e72828ee-e4d6-4d76-a80c-ec752a35056e",
   "metadata": {},
   "outputs": [],
   "source": [
    "import cv2\n",
    "import numpy as np\n",
    "import datetime\n",
    "\n",
    "\n",
    "def rect2Box(rect):\n",
    "    box = cv2.boxPoints(rect)\n",
    "    box = np.int0(box)\n",
    "    return box\n",
    "\n",
    "def shoWait(image, title = \"Image\"):\n",
    "    cv2.imshow(title, image)\n",
    "    cv2.waitKey(0)\n",
    "\n",
    "def validDateString(dateText):\n",
    "    try:\n",
    "        return datetime.datetime.strptime(dateText, '%d/%m/%Y')\n",
    "    except ValueError:\n",
    "        print(\"Unable to parse this string to date: \", dateText)"
   ]
  },
  {
   "cell_type": "code",
   "execution_count": 21,
   "id": "eed721b3-55db-440a-ba89-b52562a46d40",
   "metadata": {},
   "outputs": [],
   "source": [
    "import imutils\n",
    "from skimage.filters import threshold_local\n",
    "import cv2,base64,os, argparse\n",
    "import numpy as np\n",
    "import random\n",
    "\n",
    "import pytesseract\n",
    "from skimage import measure\n",
    "import re,datetime,json"
   ]
  },
  {
   "cell_type": "markdown",
   "id": "6d864415-69e1-422d-b99a-7603cb27efac",
   "metadata": {},
   "source": [
    "## load the image"
   ]
  },
  {
   "cell_type": "code",
   "execution_count": 56,
   "id": "1936baf8-bb32-4a01-b52f-eac36ed67051",
   "metadata": {},
   "outputs": [
    {
     "name": "stderr",
     "output_type": "stream",
     "text": [
      "usage: ipykernel_launcher.py [-h] -i IMAGE\n",
      "ipykernel_launcher.py: error: the following arguments are required: -i/--image\n"
     ]
    },
    {
     "ename": "SystemExit",
     "evalue": "2",
     "output_type": "error",
     "traceback": [
      "An exception has occurred, use %tb to see the full traceback.\n",
      "\u001b[0;31mSystemExit\u001b[0m\u001b[0;31m:\u001b[0m 2\n"
     ]
    }
   ],
   "source": [
    "#constants\n",
    "W = 800\n",
    "fontFace = cv2.FONT_HERSHEY_PLAIN\n",
    "cleanText = r\"[^A-Z0-9.,\\-\\S\\/]\"\n",
    "\n",
    "ap = argparse.ArgumentParser()\n",
    "ap.add_argument(\"-i\", \"--image\", required=True, help=\"Path to the image\")\n",
    "args = ap.parse_args()\n",
    "\n",
    "image = cv2.imread(args[\"image\"])\n",
    "\n",
    "resize_proc = imutils.resize(image, width=W)\n",
    "resize_orig = imutils.resize(image, width=W)"
   ]
  },
  {
   "cell_type": "code",
   "execution_count": 19,
   "id": "28307d51-b3a5-4629-9177-fddc41c61232",
   "metadata": {},
   "outputs": [],
   "source": [
    "# perform a image cleaning to enhance constrast and borders\n",
    "def cleanImage(image, stage = 0):\n",
    "    V = cv2.cvtColor(image, cv2.COLOR_BGR2GRAY)\n",
    "    kernel = cv2.getStructuringElement(cv2.MORPH_RECT, (3, 3))\n",
    "    # applying topHat/blackHat operations\n",
    "    topHat = cv2.morphologyEx(V, cv2.MORPH_TOPHAT, kernel)\n",
    "    blackHat = cv2.morphologyEx(V, cv2.MORPH_BLACKHAT, kernel)\n",
    "    # add and subtract between morphological operations\n",
    "    add = cv2.add(V, topHat)\n",
    "    subtract = cv2.subtract(add, blackHat)\n",
    "    if (stage == 1):\n",
    "        return subtract\n",
    "    T = threshold_local(subtract, 29, offset=35, method=\"gaussian\", mode=\"mirror\")\n",
    "    thresh = (subtract > T).astype(\"uint8\") * 255\n",
    "    if (stage == 2):\n",
    "        return thresh\n",
    "    # invert image \n",
    "    thresh = cv2.bitwise_not(thresh)\n",
    "    return thresh"
   ]
  },
  {
   "cell_type": "code",
   "execution_count": 26,
   "id": "35f0244f-506b-49f2-822d-b2adc76c27a3",
   "metadata": {},
   "outputs": [],
   "source": [
    "def extractROIs(image, minArea = 1800, minHeight = 25, minWidth = 22):\n",
    "    # find contours\n",
    "    cnts = cv2.findContours(image, cv2.RETR_EXTERNAL, cv2.CHAIN_APPROX_SIMPLE)\n",
    "    cnts = imutils.grab_contours(cnts)\n",
    "    roisAsRects = []\n",
    "    # loop trhough \n",
    "    for c in cnts:\n",
    "        rect = cv2.minAreaRect(c)\n",
    "        (_, _),(rh, rw),_ = rect\n",
    "        if (rh > 0):\n",
    "            ratio = float(rw)/rh\n",
    "            area = rw*rh\n",
    "            if (area > minArea and rh > minHeight and rw > minWidth and (ratio > 1 or ratio < 0.5)):\n",
    "        # add to the rois list\n",
    "                roisAsRects.append(rect)\n",
    "    return roisAsRects"
   ]
  },
  {
   "cell_type": "code",
   "execution_count": 30,
   "id": "5121379b-674c-4225-8985-19fd5cb04346",
   "metadata": {},
   "outputs": [],
   "source": [
    "def cropRois(image, rects, multHeight = 0.73, multWidth = 0.97, topHeightCrop = 30):\n",
    "    crops = []\n",
    "    data = {}\n",
    "    # TODO cut off angle outliers here too\n",
    "    angles = []\n",
    "\n",
    "    for r in rects:\n",
    "        box = rect2Box(r)\n",
    "        W = r[1][0]\n",
    "        H = r[1][1]\n",
    "\n",
    "        Xs = [i[0] for i in box]\n",
    "        Ys = [i[1] for i in box]\n",
    "        x1 = min(Xs)\n",
    "        x2 = max(Xs)\n",
    "        y1 = min(Ys)\n",
    "        y2 = max(Ys)\n",
    "\n",
    "        rotated = False\n",
    "        angle = r[2]\n",
    "\n",
    "        if angle < -45:\n",
    "            angle += 90\n",
    "        rotated = True\n",
    "\n",
    "        # calc the centroid\n",
    "        center = (int((x1 + x2) / 2), int((y1 + y2) / 2))\n",
    "        size = (int((x2-x1)), int((y2 - y1)))\n",
    "        #cv2.circle(image, center, 2, 255, -1)\n",
    "\n",
    "        M = cv2.getRotationMatrix2D((size[0] / 2, size[1] / 2), angle, 1.0)\n",
    "\n",
    "        # prepare the crop\n",
    "        cropped = cv2.getRectSubPix(image, size, center)\n",
    "        cropped = cv2.warpAffine(cropped, M, size)\n",
    "        croppedW = W if not rotated else H \n",
    "        croppedH = H if not rotated else W\n",
    "\n",
    "        ratio = float(croppedW) / (croppedH)\n",
    "        area = float(croppedW) * croppedH\n",
    "\n",
    "        # if in the ratio\n",
    "        if (ratio > 2 and ratio < 16):\n",
    "            #text = \"{0:.2f}-{1:.2f} \".format(ratio, area)\n",
    "            #cv2.putText(image, text, center, cv2.FONT_HERSHEY_SIMPLEX, 0.5, (0, 255, 0), 2)\n",
    "            croppedRotated = cv2.getRectSubPix(cropped, (int(croppedW * multWidth), int(croppedH * multHeight if croppedH < topHeightCrop else croppedH * 0.9)), (size[0] / 2, size[1] / 2))\n",
    "            # save the angles to calc the avg/std\n",
    "            angles.append(angle)\n",
    "            # save the crops\n",
    "            crops.append(croppedRotated)\n",
    "            # will process from top to bottom, so save it to sort later\n",
    "            data[y1] = [croppedRotated, area, ratio, angle]\n",
    "\n",
    "    return data, np.mean(np.array(angles)), np.std(np.array(angles))"
   ]
  },
  {
   "cell_type": "code",
   "execution_count": null,
   "id": "d53c308b-7daf-42c2-bd0b-45801b49ad6e",
   "metadata": {},
   "outputs": [],
   "source": [
    "# select the areas that are possible data\n",
    "\n",
    "\n",
    "# adjust and refine the rois (rotation, dumps)\n",
    "\n",
    "\n",
    "# fast way to place every string in its place by ratio/aerea/previous detection\n",
    "# TODO train an AI to do it, (perhaps a decision tree will work for most cases)\n",
    "def textClassifier(data, text, ratio):\n",
    "      words = len(re.findall(r\"\\w+\", text))\n",
    "      textSize = len(text.strip())\n",
    "\n",
    "      # blank text \n",
    "      if textSize == 0: return\n",
    "\n",
    "      # expect father and mother \n",
    "      # TODO use the height for these features\n",
    "  if (2.5 <= ratio <= 3.2):\n",
    "    separator = text.find(\"\\n\\n\")\n",
    "    if (data[\"mae\"] is None and separator and len(text) > 12 and data['nome'] is not None):\n",
    "      data[\"mae\"] = text[separator:].replace(\"\\n\", \" \").strip()\n",
    "      data[\"pai\"] = text[:separator].replace(\"\\n\", \" \").strip()\n",
    "  # expect dates and social number (cpf)\n",
    "  if (3.3 <= ratio <= 5 and data[\"nome\"] is not None):\n",
    "    if (textSize > 12 and text.find(\"-\") and text.find(\".\")):\n",
    "      if (data[\"cpf\"] is None):\n",
    "        data[\"cpf\"] = \"\".join(text.replace(\",\", \".\").split())\n",
    "    if (textSize == 10 and text.find(\"/\")):\n",
    "      dateObj = validDateString(text.strip())\n",
    "      if (isinstance(dateObj, datetime.datetime)):\n",
    "        now = datetime.datetime.now()\n",
    "        legalAge = datetime.datetime.now() - datetime.timedelta(days=365*18)\n",
    "        if (data[\"dt_nasc\"] is None and dateObj < legalAge):\n",
    "          data[\"dt_nasc\"] = \"\".join(text.split())\n",
    "        if (data[\"validade\"] is None and dateObj > now):\n",
    "          data[\"validade\"] = \"\".join(text.split())\n",
    "        if (data[\"emissao\"] is None and dateObj > legalAge and dateObj < now):\n",
    "          data[\"emissao\"] = \"\".join(text.split())\n",
    "  # expect cnh number\n",
    "  if (5.1 <= ratio <= 7.1 and data['numero'] is None):\n",
    "    numbers = re.findall(r\"(\\d{11})\", text)\n",
    "    for i in numbers:\n",
    "      if (len(i) == 11):\n",
    "        data['numero'] = i\n",
    "  # expect rg\n",
    "  if (7.2 <= ratio <= 10):\n",
    "    if (data[\"rg\"] is None):\n",
    "      # cleaning and checking\n",
    "      if (words >= 1):\n",
    "        rgData = re.split(r\"([\\w\\/]+)\", text)\n",
    "        for d in rgData:\n",
    "          size = len(d)\n",
    "          if (size == 2):\n",
    "            data[\"rg_uf\"] = d\n",
    "          elif (2 <= size <= 6):\n",
    "            data[\"rg_emissor\"] = d\n",
    "          elif (size > 6):\n",
    "            data[\"rg\"] = \"\".join(d.split())\n",
    "\n",
    "  # if (10.1 <= ratio <= 12.4):\n",
    "  #   if (data[\"cidade\"] is None):\n",
    "  #     print('RUF', text)\n",
    "\n",
    "  if (12.5 <= ratio <= 17):\n",
    "    # ratio of name and no name\n",
    "    if (data[\"nome\"] is None):\n",
    "      # cleaning and checking\n",
    "      if (words < 7 and words > 1):\n",
    "        data[\"nome\"] = text\n",
    "    # elif (data[\"cidade\"] is None):\n",
    "    #   print('RUF', text)\n",
    "\n",
    "# use tesseract to process the rois read the text \n",
    "def readRois(rois, meanAngle, stdAngle):\n",
    "  data = {\n",
    "    \"nome\": None,\n",
    "    \"cpf\": None,\n",
    "    \"dt_nasc\": None,\n",
    "    \"rg\": None,\n",
    "    \"rg_emissor\": None,\n",
    "    \"rg_uf\": None,\n",
    "    \"numero\": None,\n",
    "    \"cidade\": None,\n",
    "    \"uf\": None,\n",
    "    \"pai\": None,\n",
    "    \"mae\": None,\n",
    "    \"emissao\": None,\n",
    "    \"validade\": None,\n",
    "    \"avatar\": None\n",
    "  }\n",
    "  for i in sorted (rois.keys()):\n",
    "    r = rois[i][0]\n",
    "    ratio = rois[i][2]\n",
    "    #print(r)\n",
    "    # remove some top pixels \n",
    "    (h, w,) = r.shape[:2]\n",
    "    # ratio = float(w) / h\n",
    "    r = r[3:h, 0:w]\n",
    "    # duplicate the image to process against tesseract\n",
    "    origin = r.copy()\n",
    "    gray = r.copy()\n",
    "    gray = cleanImage(gray, 1)\n",
    "    text_origin = pytesseract.image_to_string(origin)\n",
    "    text_gray = pytesseract.image_to_string(gray)\n",
    "    text = text_gray if len(text_gray) > len(text_origin) else text_origin\n",
    "    text = re.sub(cleanText, \"\", text)\n",
    "    text = text.strip()\n",
    "    textClassifier(data, text, ratio)\n",
    "    #print(\"ratio, area, angle: {0:.2f}, {1:.2f}, {2:.2f}\".format(ratio, area, angle), \" : \", text)\n",
    "  return data\n",
    "\n",
    "# detect and return the face photo\n",
    "def grabFace(image, meanAngle):\n",
    "  face_cascade = cv2.CascadeClassifier(\"./models/haarcascade_frontalface_default.xml\")\n",
    "  gray = cv2.cvtColor(image, cv2.COLOR_BGR2GRAY)\n",
    "  for (x, y, w, h) in face_cascade.detectMultiScale(gray, 1.3, 5):\n",
    "    area = w * h\n",
    "    radius = int(h * 0.75)\n",
    "    cx = int(x+h/2)\n",
    "    cy = int(y+w/2)\n",
    "    # TODO: magic numbers everywhere, so sad\n",
    "    if (area > 5000 and area < 20000):\n",
    "      #cv2.circle(gray, (int(cx), int(cy)), radius, (255, 0, 255))\n",
    "      crop = image[cy-radius:(cy-radius+2*radius), cx-radius:(cx-radius+2*radius)]\n",
    "      return crop\n",
    "\n",
    "# stage 1 clean image\n",
    "thresh = cleanImage(resize_proc)\n",
    "\n",
    "# stage 2 detect rois\n",
    "rrects = extractROIs(thresh, resize_orig)\n",
    "\n",
    "# stage 3 process rois \n",
    "rois, meanAngle, stdAngle = cropRois(resize_orig, rrects)\n",
    "\n",
    "# if (face is not None):\n",
    "#   shoWait(face)\n",
    "\n",
    "# stage 4 read the rois\n",
    "data = readRois(rois, meanAngle, stdAngle)\n",
    "\n",
    "# stage 5 detect face\n",
    "face = grabFace(resize_orig, meanAngle)\n",
    "if (face is not None):\n",
    "  retval, imgBuffer = cv2.imencode(\".jpg\", imutils.resize(face, 240))\n",
    "  data[\"avatar\"] = base64.b64encode(imgBuffer).decode(\"utf-8\")\n",
    "\n",
    "# stage 6 return the json\n",
    "print(json.dumps(data))\n",
    "sys.stdout.flush()"
   ]
  }
 ],
 "metadata": {
  "kernelspec": {
   "display_name": "Python 3 (ipykernel)",
   "language": "python",
   "name": "python3"
  },
  "language_info": {
   "codemirror_mode": {
    "name": "ipython",
    "version": 3
   },
   "file_extension": ".py",
   "mimetype": "text/x-python",
   "name": "python",
   "nbconvert_exporter": "python",
   "pygments_lexer": "ipython3",
   "version": "3.9.7"
  }
 },
 "nbformat": 4,
 "nbformat_minor": 5
}
